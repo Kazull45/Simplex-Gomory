{
  "nbformat": 4,
  "nbformat_minor": 0,
  "metadata": {
    "colab": {
      "name": "Gomory.ipynb",
      "provenance": [],
      "collapsed_sections": [],
      "include_colab_link": true
    },
    "kernelspec": {
      "name": "python3",
      "display_name": "Python 3"
    }
  },
  "cells": [
    {
      "cell_type": "markdown",
      "metadata": {
        "id": "view-in-github",
        "colab_type": "text"
      },
      "source": [
        "<a href=\"https://colab.research.google.com/github/Kazull45/Simplex-Gomory/blob/master/Gomory2.ipynb\" target=\"_parent\"><img src=\"https://colab.research.google.com/assets/colab-badge.svg\" alt=\"Open In Colab\"/></a>"
      ]
    },
    {
      "cell_type": "code",
      "metadata": {
        "id": "5UUEI8cBF6PZ",
        "colab_type": "code",
        "outputId": "0b3e397c-bd6b-4783-9639-1c6a6b5cfcf1",
        "colab": {
          "base_uri": "https://localhost:8080/",
          "height": 119
        }
      },
      "source": [
        "!pip install pulp"
      ],
      "execution_count": 0,
      "outputs": [
        {
          "output_type": "stream",
          "text": [
            "Collecting pulp\n",
            "\u001b[?25l  Downloading https://files.pythonhosted.org/packages/41/34/757c88c320f80ce602199603afe63aed1e0bc11180b9a9fb6018fb2ce7ef/PuLP-2.1-py3-none-any.whl (40.6MB)\n",
            "\u001b[K     |████████████████████████████████| 40.6MB 102kB/s \n",
            "\u001b[?25hRequirement already satisfied: pyparsing>=2.0.1 in /usr/local/lib/python3.6/dist-packages (from pulp) (2.4.7)\n",
            "Installing collected packages: pulp\n",
            "Successfully installed pulp-2.1\n"
          ],
          "name": "stdout"
        }
      ]
    },
    {
      "cell_type": "code",
      "metadata": {
        "id": "GogoCqG6GE3x",
        "colab_type": "code",
        "outputId": "12edd20b-386f-4d5d-c86b-1883412cd1b3",
        "colab": {
          "base_uri": "https://localhost:8080/",
          "height": 102
        }
      },
      "source": [
        "!pip install pandas"
      ],
      "execution_count": 0,
      "outputs": [
        {
          "output_type": "stream",
          "text": [
            "Requirement already satisfied: pandas in /usr/local/lib/python3.6/dist-packages (1.0.3)\n",
            "Requirement already satisfied: pytz>=2017.2 in /usr/local/lib/python3.6/dist-packages (from pandas) (2018.9)\n",
            "Requirement already satisfied: numpy>=1.13.3 in /usr/local/lib/python3.6/dist-packages (from pandas) (1.18.4)\n",
            "Requirement already satisfied: python-dateutil>=2.6.1 in /usr/local/lib/python3.6/dist-packages (from pandas) (2.8.1)\n",
            "Requirement already satisfied: six>=1.5 in /usr/local/lib/python3.6/dist-packages (from python-dateutil>=2.6.1->pandas) (1.12.0)\n"
          ],
          "name": "stdout"
        }
      ]
    },
    {
      "cell_type": "code",
      "metadata": {
        "id": "mTBUjYY5GIj2",
        "colab_type": "code",
        "outputId": "47b0dc51-54aa-4729-d17e-9bfbd9ab70a7",
        "colab": {
          "base_uri": "https://localhost:8080/",
          "height": 34
        }
      },
      "source": [
        "!pip install numpy"
      ],
      "execution_count": 0,
      "outputs": [
        {
          "output_type": "stream",
          "text": [
            "Requirement already satisfied: numpy in /usr/local/lib/python3.6/dist-packages (1.18.4)\n"
          ],
          "name": "stdout"
        }
      ]
    },
    {
      "cell_type": "code",
      "metadata": {
        "id": "2nGg02S9Q-e7",
        "colab_type": "code",
        "colab": {}
      },
      "source": [
        "from pulp import *"
      ],
      "execution_count": 0,
      "outputs": []
    },
    {
      "cell_type": "markdown",
      "metadata": {
        "id": "WZj8KfT7TMXS",
        "colab_type": "text"
      },
      "source": [
        ""
      ]
    },
    {
      "cell_type": "code",
      "metadata": {
        "id": "7b0w51MBPrjQ",
        "colab_type": "code",
        "outputId": "570489ab-3541-46ff-88b7-1aa9f4db51e7",
        "colab": {
          "base_uri": "https://localhost:8080/",
          "height": 255
        }
      },
      "source": [
        "#-------------------------------INGRESAR LpMaximize/LpMinimize dependiendo el problema.\n",
        "\n",
        "\n",
        "plineal = LpProblem(\"problema\", LpMaximize)\n",
        "\n",
        " #-------------------------------INGRESAR CANTIDAD DE VARIABLES\n",
        "x1 = LpVariable(\"x1\", lowBound=0)\n",
        "\n",
        "x2 = LpVariable(\"x2\", lowBound=0)\n",
        "\n",
        "x3 = LpVariable(\"x3\", lowBound=0)\n",
        "\n",
        "x4 = LpVariable(\"x4\", lowBound=0)\n",
        "\n",
        "x5 = LpVariable(\"x5\", lowBound=0)\n",
        "\n",
        "plineal += -7*x1 - 3*x2 - 2*x3 - 1*x4 - 2*x5\n",
        "\n",
        "plineal += -4*x1 - 2*x2 - 1*x3 - 2*x4 - 1*x5 <= -3\n",
        "\n",
        "plineal += -4*x1 - 2*x2 - 4*x3 + 1*x4 + 2*x5 <= -7\n",
        "\n",
        "plineal"
      ],
      "execution_count": 0,
      "outputs": [
        {
          "output_type": "execute_result",
          "data": {
            "text/plain": [
              "problema:\n",
              "MAXIMIZE\n",
              "-7*x1 + -3*x2 + -2*x3 + -1*x4 + -2*x5 + 0\n",
              "SUBJECT TO\n",
              "_C1: - 4 x1 - 2 x2 - x3 - 2 x4 - x5 <= -3\n",
              "\n",
              "_C2: - 4 x1 - 2 x2 - 4 x3 + x4 + 2 x5 <= -7\n",
              "\n",
              "VARIABLES\n",
              "x1 Continuous\n",
              "x2 Continuous\n",
              "x3 Continuous\n",
              "x4 Continuous\n",
              "x5 Continuous"
            ]
          },
          "metadata": {
            "tags": []
          },
          "execution_count": 5
        }
      ]
    },
    {
      "cell_type": "code",
      "metadata": {
        "id": "5nD-K_KMQhPV",
        "colab_type": "code",
        "outputId": "f388720f-f6ab-4fdf-f221-a2500d17198d",
        "colab": {
          "base_uri": "https://localhost:8080/",
          "height": 272
        }
      },
      "source": [
        "print(plineal)"
      ],
      "execution_count": 0,
      "outputs": [
        {
          "output_type": "stream",
          "text": [
            "problema:\n",
            "MAXIMIZE\n",
            "-7*x1 + -3*x2 + -2*x3 + -1*x4 + -2*x5 + 0\n",
            "SUBJECT TO\n",
            "_C1: - 4 x1 - 2 x2 - x3 - 2 x4 - x5 <= -3\n",
            "\n",
            "_C2: - 4 x1 - 2 x2 - 4 x3 + x4 + 2 x5 <= -7\n",
            "\n",
            "VARIABLES\n",
            "x1 Continuous\n",
            "x2 Continuous\n",
            "x3 Continuous\n",
            "x4 Continuous\n",
            "x5 Continuous\n",
            "\n"
          ],
          "name": "stdout"
        }
      ]
    },
    {
      "cell_type": "code",
      "metadata": {
        "id": "tol6HGJAQlnt",
        "colab_type": "code",
        "outputId": "c53907b4-e85a-48e2-ce79-bd68179284fd",
        "colab": {
          "base_uri": "https://localhost:8080/",
          "height": 34
        }
      },
      "source": [
        "status = plineal.solve()\n",
        "LpStatus[status]"
      ],
      "execution_count": 0,
      "outputs": [
        {
          "output_type": "execute_result",
          "data": {
            "text/plain": [
              "'Optimal'"
            ]
          },
          "metadata": {
            "tags": []
          },
          "execution_count": 7
        }
      ]
    },
    {
      "cell_type": "code",
      "metadata": {
        "id": "j8dsc7ECQozn",
        "colab_type": "code",
        "outputId": "e038b587-9f9c-49f6-9253-361ba19f503a",
        "colab": {
          "base_uri": "https://localhost:8080/",
          "height": 51
        }
      },
      "source": [
        "variablesr = value(x1), value(x2), value(x3), value(x4), value(x5)\n",
        "solucionfo = value(plineal.objective)\n",
        "\n",
        "print(variablesr)\n",
        "print(solucionfo)"
      ],
      "execution_count": 0,
      "outputs": [
        {
          "output_type": "stream",
          "text": [
            "(0.0, 0.0, 1.8888889, 0.55555556, 0.0)\n",
            "-4.33333336\n"
          ],
          "name": "stdout"
        }
      ]
    },
    {
      "cell_type": "code",
      "metadata": {
        "id": "eQUjZrXXGMjI",
        "colab_type": "code",
        "colab": {}
      },
      "source": [
        "import numpy as np\n",
        "from pulp import *\n",
        "import pandas as pd\n",
        "\n",
        "\n",
        "\n",
        "#ingresa Val mat.\n",
        "VarZ = []  #vect prob\n",
        "Fila = int(input(\"Ingresa el valor de cada variable x1,x2, etc\")) #estado\n",
        "Filam = []\n",
        "Col = int(input(\"Ingresa el número de Variables\"))    #desici\n",
        "MatA = []\n",
        "Mpxcol = np.c((1,Fila))\n",
        "print(\"Ingresa el número de filas, columnas y número de costos x c/u\")\n",
        "\n",
        "\n",
        "print(\"Elija si desea Maximizar o Minimizar la función\")\n",
        "print(\"1 = Max, 0 = min\")\n",
        "opMaxmin = int(input(\"Ingresa 1 si deseas Naximizar o Cero si deseas minimizar\"))\n",
        "it = 0\n",
        "\n",
        "while opMaxmin >=1;\n",
        "if it < 1\n",
        "  res1 = int(input(\"Fila\"))\n",
        "  VarZ.append(A)\n",
        "  A1= int(input(\"Variable asignada\"))\n",
        "  Filam.append(A1)\n",
        "  \n",
        " \n",
        "print(\"vector de probabilidad del estado %d tomada la decisión %d\"%(VarZ[it],Filam[it]))\n",
        "    for i in range(0,Fila):\n",
        "      af = float(input(\" \"))\n",
        "      Mpxcol[0,i] = auxif\n",
        "\n",
        "\n",
        "  else\n",
        "     A = int(input(\"Edo\"))\n",
        "     VarZ.append(A)\n",
        "     A1= int(input(\"Variable asignada\"))\n",
        "     Filam.append(A1)\n",
        "    print(\"vector Z del estado %d tomada la decisión %d\"%(VarZ[it],Filam[it]))\n",
        "    for i in range(Fila):\n",
        "      au3 = float(input(\" \"))\n",
        "      MatA.append(au3)\n",
        "\n",
        "    Mpxcol = np.vstack([matriz_prob_por_decisf, vect_auxf])\n",
        "    vect_auxf.clear()\n",
        "\n",
        "  optionf = int(input(\"\"))\n",
        "  iteracionf +=1\n",
        "  "
      ],
      "execution_count": 0,
      "outputs": []
    }
  ]
}