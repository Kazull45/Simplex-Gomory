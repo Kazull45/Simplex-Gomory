{
  "nbformat": 4,
  "nbformat_minor": 0,
  "metadata": {
    "colab": {
      "name": "Untitled8.ipynb",
      "provenance": [],
      "authorship_tag": "ABX9TyNHIXKubHFbq0lKTtvbjiJy"
    },
    "kernelspec": {
      "name": "python3",
      "display_name": "Python 3"
    }
  },
  "cells": [
    {
      "cell_type": "code",
      "metadata": {
        "id": "5UUEI8cBF6PZ",
        "colab_type": "code",
        "colab": {
          "base_uri": "https://localhost:8080/",
          "height": 139
        },
        "outputId": "f4c90588-b994-4486-e39e-875f2fdbb3aa"
      },
      "source": [
        "!pip install pulp"
      ],
      "execution_count": 1,
      "outputs": [
        {
          "output_type": "stream",
          "text": [
            "Collecting pulp\n",
            "\u001b[?25l  Downloading https://files.pythonhosted.org/packages/41/34/757c88c320f80ce602199603afe63aed1e0bc11180b9a9fb6018fb2ce7ef/PuLP-2.1-py3-none-any.whl (40.6MB)\n",
            "\u001b[K     |████████████████████████████████| 40.6MB 103kB/s \n",
            "\u001b[?25hRequirement already satisfied: pyparsing>=2.0.1 in /usr/local/lib/python3.6/dist-packages (from pulp) (2.4.7)\n",
            "Installing collected packages: pulp\n",
            "Successfully installed pulp-2.1\n"
          ],
          "name": "stdout"
        }
      ]
    },
    {
      "cell_type": "code",
      "metadata": {
        "id": "GogoCqG6GE3x",
        "colab_type": "code",
        "colab": {
          "base_uri": "https://localhost:8080/",
          "height": 122
        },
        "outputId": "ee30a694-c1d7-43b4-89c2-b7363c6dfa70"
      },
      "source": [
        "!pip install pandas"
      ],
      "execution_count": 2,
      "outputs": [
        {
          "output_type": "stream",
          "text": [
            "Requirement already satisfied: pandas in /usr/local/lib/python3.6/dist-packages (1.0.3)\n",
            "Requirement already satisfied: numpy>=1.13.3 in /usr/local/lib/python3.6/dist-packages (from pandas) (1.18.4)\n",
            "Requirement already satisfied: python-dateutil>=2.6.1 in /usr/local/lib/python3.6/dist-packages (from pandas) (2.8.1)\n",
            "Requirement already satisfied: pytz>=2017.2 in /usr/local/lib/python3.6/dist-packages (from pandas) (2018.9)\n",
            "Requirement already satisfied: six>=1.5 in /usr/local/lib/python3.6/dist-packages (from python-dateutil>=2.6.1->pandas) (1.12.0)\n"
          ],
          "name": "stdout"
        }
      ]
    },
    {
      "cell_type": "code",
      "metadata": {
        "id": "mTBUjYY5GIj2",
        "colab_type": "code",
        "colab": {
          "base_uri": "https://localhost:8080/",
          "height": 34
        },
        "outputId": "72470507-ccc4-4137-de4e-61a196bb497e"
      },
      "source": [
        "!pip install numpy"
      ],
      "execution_count": 3,
      "outputs": [
        {
          "output_type": "stream",
          "text": [
            "Requirement already satisfied: numpy in /usr/local/lib/python3.6/dist-packages (1.18.4)\n"
          ],
          "name": "stdout"
        }
      ]
    },
    {
      "cell_type": "code",
      "metadata": {
        "id": "eQUjZrXXGMjI",
        "colab_type": "code",
        "colab": {}
      },
      "source": [
        "import numpy as np\n",
        "from pulp import *\n",
        "import pandas as pd\n",
        "\n",
        "\n",
        "\n",
        "#ingresa Val mat.\n",
        "VarZ = []  #vect prob\n",
        "Fila = int(input(\"Ingresa el valor de cada variable x1,x2, etc\")) #estado\n",
        "Filam = []\n",
        "Col = int(input(\"Ingresa el número de Variables\"))    #desici\n",
        "Mpxcol = np.c((1,Fila))\n",
        "print(\"Ingresa el número de filas, columnas y número de costos x c/u\")\n",
        "\n",
        "\n",
        "print(\"Elija si desea Maximizar o Minimizar la función\")\n",
        "print(\"1 = Max, 0 = min\")\n",
        "opMaxmin = int(input(\"Ingresa 1 si deseas Naximizar o Cero si deseas minimizar\"))\n",
        "N_proceso = 0\n",
        "\n",
        "while opMaxmin >=1;\n",
        "if it < 1\n",
        "  res1 = int(input(\"Fila\"))\n",
        "  edosf.append(auxf)\n",
        "\n",
        "else\n",
        "\n"
      ],
      "execution_count": 0,
      "outputs": []
    }
  ]
}